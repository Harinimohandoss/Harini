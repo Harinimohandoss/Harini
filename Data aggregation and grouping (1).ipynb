{
 "cells": [
  {
   "cell_type": "code",
   "execution_count": 1,
   "id": "a8b2686b",
   "metadata": {},
   "outputs": [
    {
     "name": "stdout",
     "output_type": "stream",
     "text": [
      "{'A': ['sai', 'subu', 'divya', 'yuvi', 'rithi', 'sangi'], 'B': ['one', 'two', 'three', 'one', 'three', 'two'], 'C': array([2, 0, 0, 2]), 'D': array([1, 0, 2, 0, 1, 1]), 'E': array([4, 1, 3, 4, 2, 0])}\n"
     ]
    }
   ],
   "source": [
    "import pandas as pd\n",
    "import numpy as np\n",
    "df=({'A':['sai','subu','divya','yuvi','rithi','sangi'],'B':['one','two','three','one','three','two'],'C':np.random.randint(3,size=4),'D':np.random.randint(5,size=6),'E':np.random.randint(5,size=6)})\n",
    "print(df)"
   ]
  },
  {
   "cell_type": "code",
   "execution_count": 2,
   "id": "09c84e0f",
   "metadata": {},
   "outputs": [
    {
     "name": "stdout",
     "output_type": "stream",
     "text": [
      "       A  C\n",
      "0  divya  0\n",
      "1  rithi  0\n",
      "2    sai  2\n",
      "3  sangi  1\n",
      "4   subu  1\n",
      "5   yuvi  3\n"
     ]
    }
   ],
   "source": [
    "import pandas as pd\n",
    "import numpy as np\n",
    "df = pd.DataFrame({\n",
    "    'A': ['sai', 'subu', 'divya', 'yuvi', 'rithi', 'sangi'],\n",
    "    'B': ['one', 'two', 'three', 'one', 'three', 'two'],\n",
    "    'C': np.random.randint(5, size=6),\n",
    "    'D': np.random.randint(5, size=6)\n",
    "})\n",
    "df1 = df.groupby('A', as_index=False)['C'].sum()\n",
    "print(df1)"
   ]
  },
  {
   "cell_type": "code",
   "execution_count": null,
   "id": "2529de35",
   "metadata": {},
   "outputs": [],
   "source": []
  }
 ],
 "metadata": {
  "kernelspec": {
   "display_name": "Python 3 (ipykernel)",
   "language": "python",
   "name": "python3"
  },
  "language_info": {
   "codemirror_mode": {
    "name": "ipython",
    "version": 3
   },
   "file_extension": ".py",
   "mimetype": "text/x-python",
   "name": "python",
   "nbconvert_exporter": "python",
   "pygments_lexer": "ipython3",
   "version": "3.11.3"
  }
 },
 "nbformat": 4,
 "nbformat_minor": 5
}
