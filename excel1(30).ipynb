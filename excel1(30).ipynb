{
 "cells": [
  {
   "cell_type": "code",
   "execution_count": 21,
   "id": "4e5048b3-4d98-41c8-85b7-b8e1695ea0ff",
   "metadata": {},
   "outputs": [
    {
     "name": "stdout",
     "output_type": "stream",
     "text": [
      "    Emp ID Name Prefix First Name Middle Initial Last Name Gender  \\\n",
      "0   677509        Drs.       Lois              H    Walker      F   \n",
      "1   940761         Ms.     Brenda              S  Robinson      F   \n",
      "2   428945         Dr.        Joe              W  Robinson      M   \n",
      "3   408351        Drs.      Diane              I     Evans      F   \n",
      "4   193819         Mr.   Benjamin              R   Russell      M   \n",
      "..     ...         ...        ...            ...       ...    ...   \n",
      "95  639892         Mr.       Jose              K      Hill      M   \n",
      "96  704709         Dr.     Harold              Z    Nelson      M   \n",
      "97  461593         Ms.     Nicole              O      Ward      F   \n",
      "98  392491        Mrs.    Theresa              R    Murphy      F   \n",
      "99  495141        Drs.      Tammy              B     Young      F   \n",
      "\n",
      "                          E Mail     Father's Name       Mother's Name  \\\n",
      "0        lois.walker@hotmail.com     Donald Walker        Helen Walker   \n",
      "1      brenda.robinson@gmail.com  Raymond Robinson       Judy Robinson   \n",
      "2         joe.robinson@gmail.com    Scott Robinson  Stephanie Robinson   \n",
      "3          diane.evans@yahoo.com       Jason Evans      Michelle Evans   \n",
      "4   benjamin.russell@charter.net   Gregory Russell   Elizabeth Russell   \n",
      "..                           ...               ...                 ...   \n",
      "95         jose.hill@hotmail.com       Carlos Hill           Anna Hill   \n",
      "96       harold.nelson@gmail.com    Richard Nelson       Pamela Nelson   \n",
      "97         nicole.ward@yahoo.com        Ralph Ward          Julia Ward   \n",
      "98      theresa.murphy@gmail.com     George Murphy   Jacqueline Murphy   \n",
      "99       tammy.young@comcast.net      Andrew Young        Brenda Young   \n",
      "\n",
      "   Mother's Maiden Name  Salary  \n",
      "0                 Lewis  168251  \n",
      "1                 Perry   51063  \n",
      "2                Taylor   50155  \n",
      "3                 Allen  180294  \n",
      "4                Nelson  117642  \n",
      "..                  ...     ...  \n",
      "95                Hayes  129774  \n",
      "96                Smith  156194  \n",
      "97                  Lee   95673  \n",
      "98             Peterson   51015  \n",
      "99             Robinson   93650  \n",
      "\n",
      "[100 rows x 11 columns]\n"
     ]
    }
   ],
   "source": [
    "import pandas as pd\n",
    "d=pd.read_csv(\"employees details.csv\")\n",
    "print(d)"
   ]
  },
  {
   "cell_type": "code",
   "execution_count": 13,
   "id": "c55cc51f-6b6e-461d-8df6-d4785ee912c9",
   "metadata": {},
   "outputs": [
    {
     "name": "stdout",
     "output_type": "stream",
     "text": [
      "columns Index(['Emp ID', 'Name Prefix', 'First Name', 'Middle Initial', 'Last Name',\n",
      "       'Gender', 'E Mail', 'Father's Name', 'Mother's Name',\n",
      "       'Mother's Maiden Name', 'Salary'],\n",
      "      dtype='object')\n",
      "(100, 11)\n"
     ]
    }
   ],
   "source": [
    "df=pd.DataFrame(d)\n",
    "print(\"columns\",df.columns)\n",
    "print(df.shape)"
   ]
  },
  {
   "cell_type": "code",
   "execution_count": 33,
   "id": "fc36913a-3978-48dc-b916-2c372f7f40bd",
   "metadata": {},
   "outputs": [
    {
     "name": "stdout",
     "output_type": "stream",
     "text": [
      "First Name 0         Lois\n",
      "1       Brenda\n",
      "2          Joe\n",
      "3        Diane\n",
      "4     Benjamin\n",
      "        ...   \n",
      "95        Jose\n",
      "96      Harold\n",
      "97      Nicole\n",
      "98     Theresa\n",
      "99       Tammy\n",
      "Name: First Name, Length: 100, dtype: object\n"
     ]
    }
   ],
   "source": [
    "import pandas as pd\n",
    "print(\"First Name\",df['First Name'])"
   ]
  },
  {
   "cell_type": "code",
   "execution_count": 41,
   "id": "a9cf5f34-e54f-4b59-a35a-a9289003013f",
   "metadata": {},
   "outputs": [
    {
     "name": "stdout",
     "output_type": "stream",
     "text": [
      "   Emp ID Name Prefix First Name Middle Initial Last Name Gender  \\\n",
      "1  940761         Ms.     Brenda              S  Robinson      F   \n",
      "2  428945         Dr.        Joe              W  Robinson      M   \n",
      "\n",
      "                      E Mail     Father's Name       Mother's Name  \\\n",
      "1  brenda.robinson@gmail.com  Raymond Robinson       Judy Robinson   \n",
      "2     joe.robinson@gmail.com    Scott Robinson  Stephanie Robinson   \n",
      "\n",
      "  Mother's Maiden Name  Salary  \n",
      "1                Perry   51063  \n",
      "2               Taylor   50155  \n"
     ]
    }
   ],
   "source": [
    "print(df[1:3])"
   ]
  },
  {
   "cell_type": "code",
   "execution_count": 45,
   "id": "0ec57852-a7a8-427d-8ab7-5456e615a52e",
   "metadata": {},
   "outputs": [
    {
     "name": "stdout",
     "output_type": "stream",
     "text": [
      "particular person details Emp ID                                        162402\n",
      "Name Prefix                                     Hon.\n",
      "First Name                                     Diana\n",
      "Middle Initial                                     T\n",
      "Last Name                                   Peterson\n",
      "Gender                                             F\n",
      "E Mail                  diana.peterson@hotmail.co.uk\n",
      "Father's Name                      Jonathan Peterson\n",
      "Mother's Name                     Christina Peterson\n",
      "Mother's Maiden Name                            Ross\n",
      "Salary                                         43010\n",
      "Name: 9, dtype: object\n"
     ]
    }
   ],
   "source": [
    "print(\"particular person details\",df.loc[9])"
   ]
  },
  {
   "cell_type": "code",
   "execution_count": 49,
   "id": "daab616b-c5b9-4a27-8933-e4dfbc6b03de",
   "metadata": {},
   "outputs": [
    {
     "name": "stdout",
     "output_type": "stream",
     "text": [
      "   Emp ID Name Prefix First Name Middle Initial Last Name Gender  \\\n",
      "2  428945         Dr.        Joe              W  Robinson      M   \n",
      "\n",
      "                   E Mail   Father's Name       Mother's Name  \\\n",
      "2  joe.robinson@gmail.com  Scott Robinson  Stephanie Robinson   \n",
      "\n",
      "  Mother's Maiden Name  Salary  \n",
      "2               Taylor   50155  \n"
     ]
    }
   ],
   "source": [
    "print(d.loc[d['Salary']==50155])"
   ]
  },
  {
   "cell_type": "code",
   "execution_count": 53,
   "id": "921cc33c-6ec9-40ed-94bc-89e8e6019063",
   "metadata": {},
   "outputs": [
    {
     "name": "stdout",
     "output_type": "stream",
     "text": [
      "0     168.419419\n",
      "1      51.114114\n",
      "2      50.205205\n",
      "3     180.474474\n",
      "4     117.759760\n",
      "         ...    \n",
      "95    129.903904\n",
      "96    156.350350\n",
      "97     95.768769\n",
      "98     51.066066\n",
      "99     93.743744\n",
      "Name: Salary, Length: 100, dtype: float64\n"
     ]
    }
   ],
   "source": [
    "df=d['Salary']/999\n",
    "print(df)"
   ]
  },
  {
   "cell_type": "code",
   "execution_count": null,
   "id": "8bb467c5-f435-486b-ac71-3f2a431c0cdf",
   "metadata": {},
   "outputs": [],
   "source": []
  }
 ],
 "metadata": {
  "kernelspec": {
   "display_name": "Python 3 (ipykernel)",
   "language": "python",
   "name": "python3"
  },
  "language_info": {
   "codemirror_mode": {
    "name": "ipython",
    "version": 3
   },
   "file_extension": ".py",
   "mimetype": "text/x-python",
   "name": "python",
   "nbconvert_exporter": "python",
   "pygments_lexer": "ipython3",
   "version": "3.12.7"
  }
 },
 "nbformat": 4,
 "nbformat_minor": 5
}
